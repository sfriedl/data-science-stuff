{
 "cells": [
  {
   "cell_type": "markdown",
   "metadata": {},
   "source": [
    "# Linear Regression"
   ]
  },
  {
   "cell_type": "code",
   "execution_count": 1,
   "metadata": {},
   "outputs": [],
   "source": [
    "from sklearn import datasets\n",
    "from sklearn.model_selection import train_test_split\n",
    "import pandas as pd\n",
    "\n",
    "import numpy as np\n",
    "from numpy.polynomial.polynomial import polyval\n",
    "import matplotlib.pyplot as plt\n",
    "data = datasets.load_boston()"
   ]
  },
  {
   "cell_type": "markdown",
   "metadata": {},
   "source": [
    "## One-dimensional"
   ]
  },
  {
   "cell_type": "code",
   "execution_count": 2,
   "metadata": {},
   "outputs": [
    {
     "data": {
      "image/png": "[encoded data removed]",
      "text/plain": [
       "<Figure size 432x288 with 1 Axes>"
      ]
     },
     "metadata": {},
     "output_type": "display_data"
    }
   ],
   "source": [
    "n = 100\n",
    "x = np.linspace(-5,5, n)\n",
    "\n",
    "a = 3; b = -2.5;\n",
    "y = a*x + b\n",
    "yn = y + 3*np.random.randn(n) #add noise\n",
    "\n",
    "p = [b, a, 0.6, 0.2]\n",
    "y2 = polyval(x, p)\n",
    "y2n = y2 + 2*np.random.randn(n)\n",
    "\n",
    "fig, ax = plt.subplots()\n",
    "ax.scatter(x, yn, c ='r')\n",
    "ax.scatter(x, y2n, c ='b')\n",
    "plt.grid(True)\n",
    "plt.show()"
   ]
  },
  {
   "cell_type": "markdown",
   "metadata": {},
   "source": [
    "Simple linear regression with sklearn.linear_model.LinearRegression()"
   ]
  },
  {
   "cell_type": "code",
   "execution_count": 3,
   "metadata": {},
   "outputs": [
    {
     "name": "stdout",
     "output_type": "stream",
     "text": [
      "Regression line: y= 3.07x + -2.03\n",
      "Mse: 5.3186, R squared: 0.9306\n"
     ]
    },
    {
     "data": {
      "image/png": "[encoded data removed]",
      "text/plain": [
       "<Figure size 432x288 with 1 Axes>"
      ]
     },
     "metadata": {},
     "output_type": "display_data"
    }
   ],
   "source": [
    "from sklearn import linear_model\n",
    "from sklearn.metrics import mean_squared_error, r2_score\n",
    "\n",
    "x_train, x_test, y_train, y_test = train_test_split(x, yn, test_size=0.2, random_state=42, shuffle=True)\n",
    "#x and y have to be of shape (n, d); here: d = 1\n",
    "x_train = x_train.reshape(-1,1) \n",
    "x_test = x_test.reshape(-1,1)\n",
    "y_train = y_train.reshape(-1,1)\n",
    "y_test = y_test.reshape(-1,1)\n",
    "\n",
    "#train model\n",
    "lm = linear_model.LinearRegression()\n",
    "lm.fit (x_train, y_train)  \n",
    "coef = lm.coef_[0][0]\n",
    "itc = lm.intercept_[0]\n",
    "print(\"Regression line: y = {:.2f}x + {:.2f}\".format(coef, itc))\n",
    "\n",
    "#make predictions\n",
    "y_pred = lm.predict(x_test) \n",
    "\n",
    "#evaluate\n",
    "mse = mean_squared_error(y_test, y_pred)\n",
    "r2 = r2_score(y_test, y_pred)\n",
    "print(\"Mse: {:.4f}, R squared: {:.4f}\".format(mse, r2))\n",
    "#R squared alternative: print(\"Score\", lm.score(x_test, y_test))\n",
    "\n",
    "#plot outputs\n",
    "#plt.scatter(x_test, y_test, color='black')\n",
    "#plt.plot(x_test, y_pred, color='blue', linewidth=2)\n",
    "fig, ax = plt.subplots()\n",
    "ax.plot(x, yn, 'go', alpha = 0.3)\n",
    "ax.plot(x_test, y_test, 'ko', ms=6) #ax.scatter(x_test, y_test, c ='black')\n",
    "ax.plot(x_test, y_pred, 'b--')\n",
    "plt.grid(True)\n",
    "plt.show()"
   ]
  },
  {
   "cell_type": "markdown",
   "metadata": {},
   "source": [
    "## Multiple linear regression with Pandas and sklearn \n"
   ]
  },
  {
   "cell_type": "code",
   "execution_count": 4,
   "metadata": {},
   "outputs": [],
   "source": [
    "data = datasets.load_boston()\n",
    "#print(data.DESCR)\n",
    "df = pd.DataFrame(data.data, columns=data.feature_names)\n",
    "#print(df.describe(include='all'))\n",
    "target = pd.DataFrame(data.target, columns=[\"MEDV\"]) #housing value\n",
    "#print(target.describe())"
   ]
  },
  {
   "cell_type": "code",
   "execution_count": 22,
   "metadata": {},
   "outputs": [
    {
     "name": "stdout",
     "output_type": "stream",
     "text": [
      "Regression line\n",
      "-0.11 * CRIM + 0.03 * ZN + 0.04 * INDUS + 2.79 * CHAS + -17.24 * NOX + 4.43 * RM + -0.01 * AGE + -1.45 * DIS + 0.26 * RAD + -0.01 * TAX + -0.92 * PTRATIO + 0.01 * B + -0.51 * LSTAT + 30.29\n",
      "R2: 0.6685\n"
     ]
    }
   ],
   "source": [
    "#X = df[['RM', 'LSTAT']]\n",
    "X = df\n",
    "Y = target\n",
    "x_train, x_test, y_train, y_test = train_test_split(X, Y, test_size=0.2, random_state=42, shuffle=True)\n",
    "\n",
    "#train model\n",
    "lm = linear_model.LinearRegression()\n",
    "lm.fit (x_train, y_train)  \n",
    "coef = lm.coef_[0]; \n",
    "itc = lm.intercept_[0]\n",
    "print(\"Regression line\")\n",
    "for e, col in enumerate(x_train):\n",
    "    print(\"{:.2f} * {} + \".format(coef[e], col), end='')\n",
    "print(\"{:.2f}\".format(itc))\n",
    "\n",
    "#evaluate\n",
    "print(\"R2: {:.4f}\".format(lm.score(x_test, y_test)))"
   ]
  },
  {
   "cell_type": "code",
   "execution_count": 18,
   "metadata": {},
   "outputs": [
    {
     "name": "stdout",
     "output_type": "stream",
     "text": [
      "Regression line: y = 9.35x + -36.25\n",
      "R2: 0.3708\n"
     ]
    },
    {
     "name": "stderr",
     "output_type": "stream",
     "text": [
      "/Users/sabrina/anaconda/envs/python3/lib/python3.6/site-packages/ipykernel_launcher.py:5: FutureWarning: reshape is deprecated and will raise in a subsequent release. Please use .values.reshape(...) instead\n",
      "  \"\"\"\n",
      "/Users/sabrina/anaconda/envs/python3/lib/python3.6/site-packages/ipykernel_launcher.py:6: FutureWarning: reshape is deprecated and will raise in a subsequent release. Please use .values.reshape(...) instead\n",
      "  \n"
     ]
    }
   ],
   "source": [
    "#Use only  one variable\n",
    "X = df[\"RM\"]\n",
    "y = target\n",
    "x_train, x_test, y_train, y_test = train_test_split(X, y, test_size=0.2, random_state=42, shuffle=True)\n",
    "x_train = x_train.reshape(-1,1) \n",
    "x_test = x_test.reshape(-1,1)\n",
    "#train model\n",
    "lm = linear_model.LinearRegression()\n",
    "lm.fit (x_train, y_train)  \n",
    "coef = lm.coef_[0][0]; \n",
    "itc = lm.intercept_[0]\n",
    "print(\"Regression line: y = {:.2f}x + {:.2f}\".format(coef, itc))\n",
    "\n",
    "#evaluate\n",
    "print(\"R2: {:.4f}\".format(lm.score(x_test, y_test)))"
   ]
  },
  {
   "cell_type": "code",
   "execution_count": 35,
   "metadata": {},
   "outputs": [
    {
     "name": "stdout",
     "output_type": "stream",
     "text": [
      "[-1.09866684e-01  3.14453108e-02  1.95376263e-02  2.64510844e+00\n",
      " -1.22999664e+01  4.45500256e+00 -1.00957677e-02 -1.37794048e+00\n",
      "  2.53055124e-01 -1.11627059e-02 -8.59968531e-01  1.26390557e-02\n",
      " -5.18719664e-01]\n",
      "26.92349103955776\n",
      "R2: 0.6673\n",
      "[-1.12390148e-01  3.01182631e-02  4.01418498e-02  2.78317373e+00\n",
      " -1.71033229e+01  4.43326962e+00 -6.34863334e-03 -1.44652119e+00\n",
      "  2.61854471e-01 -1.06533572e-02 -9.14818435e-01  1.24568887e-02\n",
      " -5.09596960e-01]\n",
      "30.194064885700477\n",
      "0.01\n",
      "R2: 0.6685\n"
     ]
    }
   ],
   "source": [
    "X = df\n",
    "Y = target\n",
    "x_train, x_test, y_train, y_test = train_test_split(X, Y, test_size=0.2, random_state=42, shuffle=True)\n",
    "\n",
    "#Normal ridge regression\n",
    "#train model\n",
    "ridge = linear_model.Ridge(alpha = .5)\n",
    "ridge.fit (x_train, y_train)  \n",
    "print(ridge.coef_[0])\n",
    "print(ridge.intercept_[0])\n",
    "\n",
    "#evaluate\n",
    "print(\"R2: {:.4f}\".format(ridge.score(x_test, y_test)))\n",
    "\n",
    "####Ridge regression with cross validation of regularization params\n",
    "#train model\n",
    "ridge2 = linear_model.RidgeCV(alphas=(0.001, 0.01, 0.1,1.0, 10.0))\n",
    "ridge2.fit (x_train, y_train)  \n",
    "print(ridge2.coef_[0])\n",
    "print(ridge2.intercept_[0])\n",
    "print(ridge2.alpha_)\n",
    "\n",
    "#evaluate\n",
    "print(\"R2: {:.4f}\".format(ridge2.score(x_test, y_test)))\n"
   ]
  },
  {
   "cell_type": "markdown",
   "metadata": {},
   "source": [
    "General Linear Model: \n",
    "multiple target variables\n",
    "combinations of predictors\n",
    "generalized inverse (predictors not independent (correlations)"
   ]
  },
  {
   "cell_type": "code",
   "execution_count": null,
   "metadata": {},
   "outputs": [],
   "source": [
    "Generalized Linear Model:\n",
    "Different distributions of target possible\n",
    "link function"
   ]
  }
 ],
 "metadata": {
  "kernelspec": {
   "display_name": "Python 3",
   "language": "python",
   "name": "python3"
  },
  "language_info": {
   "codemirror_mode": {
    "name": "ipython",
    "version": 3
   },
   "file_extension": ".py",
   "mimetype": "text/x-python",
   "name": "python",
   "nbconvert_exporter": "python",
   "pygments_lexer": "ipython3",
   "version": "3.6.5"
  }
 },
 "nbformat": 4,
 "nbformat_minor": 2
}
